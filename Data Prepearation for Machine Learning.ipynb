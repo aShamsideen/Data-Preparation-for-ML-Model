{
 "cells": [
  {
   "cell_type": "markdown",
   "id": "ffce7142-a77c-40de-9b0f-40241affa983",
   "metadata": {},
   "source": [
    "### Filling Missing Values With Imputation"
   ]
  },
  {
   "cell_type": "code",
   "execution_count": 29,
   "id": "c6b40383-0997-4208-8a23-d0a1d93b57da",
   "metadata": {},
   "outputs": [],
   "source": [
    "from numpy import isnan\n",
    "import pandas as pd\n",
    "from sklearn.impute import SimpleImputer\n"
   ]
  },
  {
   "cell_type": "code",
   "execution_count": 49,
   "id": "2fefa9d7-2354-4629-a62a-4f83a4261983",
   "metadata": {
    "scrolled": true
   },
   "outputs": [
    {
     "name": "stdout",
     "output_type": "stream",
     "text": [
      "Missing: 1605\n",
      "Missing: 0\n"
     ]
    }
   ],
   "source": [
    "# Load dataset\n",
    "df = pd.read_csv('horse-colic.csv', header=None, na_values='?')\n",
    "\n",
    "# Split into input and output\n",
    "data = df.values\n",
    "\n",
    "ix = [i for i in range (data.shape[1]) if i !=23]\n",
    "x, y = data[:, ix], data[:, 23]\n",
    "\n",
    "# Print Missing\n",
    "print('Missing: %d' % sum(isnan(x).flatten()))\n",
    "\n",
    "# Define Imputer\n",
    "imputer = SimpleImputer(strategy='mean')\n",
    "\n",
    "# Fit on the Dataset\n",
    "imputer.fit(x)\n",
    "\n",
    "# Transform dataset\n",
    "xtrans = imputer.transform(x)\n",
    "\n",
    "# Print total missing\n",
    "print('Missing: %d' % sum(isnan(xtrans).flatten()))"
   ]
  },
  {
   "cell_type": "markdown",
   "id": "3cf5493f-f09c-4bfe-8f40-669653a1545d",
   "metadata": {},
   "source": [
    "### Selection of Feature with RFE"
   ]
  },
  {
   "cell_type": "code",
   "execution_count": 50,
   "id": "24174643-5328-4d97-8367-9659193ed0fe",
   "metadata": {},
   "outputs": [],
   "source": [
    "from sklearn.datasets import make_classification\n",
    "from sklearn.feature_selection import RFE\n",
    "from sklearn.tree import DecisionTreeClassifier"
   ]
  },
  {
   "cell_type": "code",
   "execution_count": 51,
   "id": "5a8702ba-f198-4c91-a18d-1c46de6a354c",
   "metadata": {},
   "outputs": [
    {
     "name": "stdout",
     "output_type": "stream",
     "text": [
      "Column: 0, Selected=True, Rank: 1\n",
      "Column: 1, Selected=True, Rank: 1\n",
      "Column: 2, Selected=False, Rank: 5\n",
      "Column: 3, Selected=False, Rank: 4\n",
      "Column: 4, Selected=False, Rank: 10\n",
      "Column: 5, Selected=True, Rank: 1\n",
      "Column: 6, Selected=False, Rank: 8\n",
      "Column: 7, Selected=False, Rank: 3\n",
      "Column: 8, Selected=False, Rank: 7\n",
      "Column: 9, Selected=True, Rank: 1\n",
      "Column: 10, Selected=True, Rank: 1\n",
      "Column: 11, Selected=False, Rank: 12\n",
      "Column: 12, Selected=True, Rank: 1\n",
      "Column: 13, Selected=True, Rank: 1\n",
      "Column: 14, Selected=True, Rank: 1\n",
      "Column: 15, Selected=True, Rank: 1\n",
      "Column: 16, Selected=False, Rank: 9\n",
      "Column: 17, Selected=False, Rank: 11\n",
      "Column: 18, Selected=False, Rank: 6\n",
      "Column: 19, Selected=False, Rank: 2\n",
      "Column: 20, Selected=True, Rank: 1\n"
     ]
    }
   ],
   "source": [
    "#Define dataset\n",
    "x, y = make_classification(n_samples=1320, n_features=21, n_informative=10, n_redundant=11, random_state=1)\n",
    "\n",
    "# Define RFE\n",
    "rfe= RFE(estimator=DecisionTreeClassifier(), n_features_to_select=10)\n",
    "\n",
    "# Fit RFE\n",
    "rfe.fit(x, y)\n",
    "\n",
    "# Summarize all features\n",
    "for i in range (x.shape[1]):\n",
    "    print('Column: %d, Selected=%s, Rank: %d' % (i, rfe.support_[i], rfe.ranking_[i]))"
   ]
  },
  {
   "cell_type": "markdown",
   "id": "c4ff7925-86cc-4840-9848-166b7464593d",
   "metadata": {},
   "source": [
    "### Data Scaling with Normalization"
   ]
  },
  {
   "cell_type": "code",
   "execution_count": 45,
   "id": "7abd7955-4350-448c-bafc-44817a98f390",
   "metadata": {},
   "outputs": [],
   "source": [
    "from sklearn.datasets import make_classification\n",
    "from sklearn.preprocessing import MinMaxScaler"
   ]
  },
  {
   "cell_type": "code",
   "execution_count": 51,
   "id": "bd37c7a4-3c8e-4614-a57a-808ac3db8590",
   "metadata": {},
   "outputs": [
    {
     "name": "stdout",
     "output_type": "stream",
     "text": [
      "[[-1.42986543 -0.70112641 -3.88022659 -1.7387056   4.54086896  0.22325084\n",
      "  -0.05693179 -0.68737561  1.12481055  3.03110157 -1.97962023  1.58773587\n",
      "   2.14174319  1.10789093 -0.44510592  6.53815413 -0.15875236  0.03061438\n",
      "   2.89607161  1.0205923  -2.97557394]\n",
      " [ 6.07171562  4.9107076   1.91753046 -9.10925988 -6.46697887  1.87525768\n",
      "  -0.30463574  5.09646515 -0.70809416  2.13467119  2.42293306 -1.33809041\n",
      "  -6.71698031  1.9384144  -2.53226687 -5.36747642 -0.69463424  1.28058558\n",
      "  -0.28325715 -3.44856572  5.0639487 ]\n",
      " [ 0.55332344  1.22412386  3.26560962 -0.28425252 -3.90212539  0.08223332\n",
      "   3.10949974 -2.21552738 -0.28227516  0.18809881 -0.53904089 -3.19871149\n",
      "  -6.87169939 -0.86394712 -1.02995255  2.06670791  4.12201897  1.59369936\n",
      "   1.48942138  2.1178143   1.74998875]]\n"
     ]
    }
   ],
   "source": [
    "# Define dataset\n",
    "x, y = make_classification(n_samples=1320, n_features=21, n_informative=10, n_redundant=11, random_state=1)\n",
    "\n",
    "# Summarize data before transform\n",
    "print(x[:3, :])"
   ]
  },
  {
   "cell_type": "code",
   "execution_count": 52,
   "id": "5f271838-9cc2-4256-97d7-3154850be9c9",
   "metadata": {},
   "outputs": [
    {
     "name": "stdout",
     "output_type": "stream",
     "text": [
      "[[0.33762904 0.47103263 0.37698868 0.42397866 0.63610393 0.48068202\n",
      "  0.52059761 0.35337844 0.45422869 0.79450538 0.31633423 0.63049909\n",
      "  0.59236802 0.57235989 0.55542084 0.78616386 0.47667119 0.49202468\n",
      "  0.80595147 0.56982904 0.26948131]\n",
      " [0.83516892 0.8878633  0.59336362 0.15857275 0.20623505 0.59990297\n",
      "  0.5092616  0.58829536 0.30786491 0.71878218 0.62359037 0.43829109\n",
      "  0.22876087 0.62171876 0.38079364 0.36117746 0.43776791 0.53707088\n",
      "  0.54485741 0.34145298 0.62580063]\n",
      " [0.46916339 0.61403461 0.64367455 0.47635199 0.30639547 0.47050516\n",
      "  0.66550729 0.29131091 0.34186803 0.55435145 0.4168729  0.31606024\n",
      "  0.22241041 0.45517152 0.50648828 0.62654999 0.78744122 0.5483548\n",
      "  0.690434   0.6258976  0.47892276]]\n"
     ]
    }
   ],
   "source": [
    "# Define Scaler\n",
    "trans = MinMaxScaler()\n",
    "\n",
    "# Transform the data\n",
    "x_norm = trans.fit_transform(x)\n",
    "\n",
    "# Summarize data after transform\n",
    "print(x_norm[:3, :])"
   ]
  },
  {
   "cell_type": "markdown",
   "id": "dd9ea906-74b9-45a6-a9dc-7350df7d0e38",
   "metadata": {},
   "source": [
    "### Transform Categories with OneHot Encoding "
   ]
  },
  {
   "cell_type": "code",
   "execution_count": 26,
   "id": "a73adf2c-3e87-40a5-aaab-bafa3625f5f5",
   "metadata": {},
   "outputs": [],
   "source": [
    "from sklearn.preprocessing import OneHotEncoder"
   ]
  },
  {
   "cell_type": "code",
   "execution_count": 34,
   "id": "4a9a4f3e-a322-421b-a1a9-ce88a7e3af2b",
   "metadata": {},
   "outputs": [],
   "source": [
    "# Load dataset\n",
    "rainfall1 = pd.read_csv('Rainfall Data.csv')"
   ]
  },
  {
   "cell_type": "code",
   "execution_count": 35,
   "id": "d1a337a4-fe7e-4134-a84e-e8d7d1942031",
   "metadata": {},
   "outputs": [],
   "source": [
    "data = rainfall1.values"
   ]
  },
  {
   "cell_type": "code",
   "execution_count": 50,
   "id": "1de2b70f-e7eb-4c28-8341-249d065c5b97",
   "metadata": {},
   "outputs": [
    {
     "name": "stdout",
     "output_type": "stream",
     "text": [
      "[['12/21/2013' '74' '60' '45' '67' '49' '43' '93' '75' '57' '29.86'\n",
      "  '29.68' '29.59' '10' '7' '2' '20' '4' '31' '0.46']\n",
      " ['12/22/2013' '56' '48' '39' '43' '36' '28' '93' '68' '43' '30.41'\n",
      "  '30.13' '29.87' '10' '10' '5' '16' '6' '25' '0']\n",
      " ['12/23/2013' '58' '45' '32' '31' '27' '23' '76' '52' '27' '30.56'\n",
      "  '30.49' '30.41' '10' '10' '10' '8' '3' '12' '0']]\n"
     ]
    }
   ],
   "source": [
    "# Split into input and output\n",
    "x = data[:, :-1].astype(str)\n",
    "y = data[:, -1].astype(str)\n",
    "\n",
    "# Summarize raw data\n",
    "print(x[:3, :])"
   ]
  },
  {
   "cell_type": "code",
   "execution_count": 52,
   "id": "192f0298-3391-4f9d-87ab-f88aceba5821",
   "metadata": {},
   "outputs": [
    {
     "name": "stdout",
     "output_type": "stream",
     "text": [
      "[[0. 0. 0. ... 0. 0. 0.]\n",
      " [0. 0. 0. ... 0. 0. 0.]\n",
      " [0. 0. 0. ... 0. 0. 0.]]\n"
     ]
    }
   ],
   "source": [
    "# Define onehot encoding transform\n",
    "encoder = OneHotEncoder(sparse=False)\n",
    "\n",
    "# Fit and apply transform to input data \n",
    "x_oe = encoder.fit_transform(x)\n",
    "\n",
    "# Summarize  data after transform\n",
    "print(x_oe[:3, :])"
   ]
  },
  {
   "cell_type": "markdown",
   "id": "b412d0e4-8cac-4488-82df-52b6cf9d3a74",
   "metadata": {},
   "source": [
    "### Transform Numbers to Category with KBins"
   ]
  },
  {
   "cell_type": "code",
   "execution_count": 58,
   "id": "5ec465b3-de99-455a-8848-3810c86dfebb",
   "metadata": {},
   "outputs": [],
   "source": [
    "from sklearn.datasets import make_classification\n",
    "from sklearn.preprocessing import KBinsDiscretizer"
   ]
  },
  {
   "cell_type": "code",
   "execution_count": 60,
   "id": "ea97cd15-ad0f-4e6b-9707-acc38ad92a84",
   "metadata": {},
   "outputs": [
    {
     "name": "stdout",
     "output_type": "stream",
     "text": [
      "[[-1.42986543 -0.70112641 -3.88022659 -1.7387056   4.54086896  0.22325084\n",
      "  -0.05693179 -0.68737561  1.12481055  3.03110157 -1.97962023  1.58773587\n",
      "   2.14174319  1.10789093 -0.44510592  6.53815413 -0.15875236  0.03061438\n",
      "   2.89607161  1.0205923  -2.97557394]\n",
      " [ 6.07171562  4.9107076   1.91753046 -9.10925988 -6.46697887  1.87525768\n",
      "  -0.30463574  5.09646515 -0.70809416  2.13467119  2.42293306 -1.33809041\n",
      "  -6.71698031  1.9384144  -2.53226687 -5.36747642 -0.69463424  1.28058558\n",
      "  -0.28325715 -3.44856572  5.0639487 ]\n",
      " [ 0.55332344  1.22412386  3.26560962 -0.28425252 -3.90212539  0.08223332\n",
      "   3.10949974 -2.21552738 -0.28227516  0.18809881 -0.53904089 -3.19871149\n",
      "  -6.87169939 -0.86394712 -1.02995255  2.06670791  4.12201897  1.59369936\n",
      "   1.48942138  2.1178143   1.74998875]]\n"
     ]
    }
   ],
   "source": [
    "# Define dataset\n",
    "x, y = make_classification(n_samples=1320, n_features=21, n_informative=10, n_redundant=11, random_state=1)\n",
    "\n",
    "# Summarize dataset\n",
    "print(x[:3, :])"
   ]
  },
  {
   "cell_type": "code",
   "execution_count": 61,
   "id": "1862f405-4cbc-40ad-a05e-a33b54646a06",
   "metadata": {},
   "outputs": [
    {
     "name": "stdout",
     "output_type": "stream",
     "text": [
      "[[3. 4. 3. 4. 6. 4. 5. 3. 4. 7. 3. 6. 5. 5. 5. 7. 4. 4. 8. 5. 2.]\n",
      " [8. 8. 5. 1. 2. 5. 5. 5. 3. 7. 6. 4. 2. 6. 3. 3. 4. 5. 5. 3. 6.]\n",
      " [4. 6. 6. 4. 3. 4. 6. 2. 3. 5. 4. 3. 2. 4. 5. 6. 7. 5. 6. 6. 4.]]\n"
     ]
    }
   ],
   "source": [
    "# Define Transform\n",
    "trans = KBinsDiscretizer(n_bins=10, encode='ordinal', strategy='uniform')\n",
    "\n",
    "# Transform Data\n",
    "x_discrete = trans.fit_transform(x)\n",
    "\n",
    "# Summarize data after transform\n",
    "print(x_discrete[:3, :])"
   ]
  },
  {
   "cell_type": "markdown",
   "id": "deec99e8-a8e2-4448-a163-f0ca3e31577e",
   "metadata": {},
   "source": [
    "### Dimensionality Reduction with PCA"
   ]
  },
  {
   "cell_type": "code",
   "execution_count": 64,
   "id": "0ed5fde7-48ae-4e93-8dc0-eaa2d7795069",
   "metadata": {},
   "outputs": [],
   "source": [
    "from sklearn.datasets import make_classification\n",
    "from sklearn.decomposition import PCA"
   ]
  },
  {
   "cell_type": "code",
   "execution_count": 66,
   "id": "5a8bb308-2c5f-43b1-a1f0-149d86de8fad",
   "metadata": {},
   "outputs": [
    {
     "name": "stdout",
     "output_type": "stream",
     "text": [
      "[[-1.42986543 -0.70112641 -3.88022659 -1.7387056   4.54086896  0.22325084\n",
      "  -0.05693179 -0.68737561  1.12481055  3.03110157 -1.97962023  1.58773587\n",
      "   2.14174319  1.10789093 -0.44510592  6.53815413 -0.15875236  0.03061438\n",
      "   2.89607161  1.0205923  -2.97557394]\n",
      " [ 6.07171562  4.9107076   1.91753046 -9.10925988 -6.46697887  1.87525768\n",
      "  -0.30463574  5.09646515 -0.70809416  2.13467119  2.42293306 -1.33809041\n",
      "  -6.71698031  1.9384144  -2.53226687 -5.36747642 -0.69463424  1.28058558\n",
      "  -0.28325715 -3.44856572  5.0639487 ]\n",
      " [ 0.55332344  1.22412386  3.26560962 -0.28425252 -3.90212539  0.08223332\n",
      "   3.10949974 -2.21552738 -0.28227516  0.18809881 -0.53904089 -3.19871149\n",
      "  -6.87169939 -0.86394712 -1.02995255  2.06670791  4.12201897  1.59369936\n",
      "   1.48942138  2.1178143   1.74998875]]\n"
     ]
    }
   ],
   "source": [
    "# Define dataset\n",
    "x, y = make_classification(n_samples=1320, n_features=21, n_informative=10, n_redundant=11, random_state=1)\n",
    "print(x[:3, :])"
   ]
  },
  {
   "cell_type": "code",
   "execution_count": 67,
   "id": "1bc9c3fa-2d72-4a70-ae10-2045841e7831",
   "metadata": {},
   "outputs": [
    {
     "name": "stdout",
     "output_type": "stream",
     "text": [
      "[[-2.98553144 -6.67857017 -6.81159835]\n",
      " [ 9.24870997 13.48588257 -2.90328002]\n",
      " [10.60782909  0.29232708 -0.47172531]]\n"
     ]
    }
   ],
   "source": [
    "# Define transform\n",
    "trans = PCA(n_components=3)\n",
    "\n",
    "# Transform data\n",
    "x_dim = trans.fit_transform(x)\n",
    "\n",
    "# Summarize data after transform\n",
    "print(x_dim[:3, :])"
   ]
  },
  {
   "cell_type": "markdown",
   "id": "c4a28d69",
   "metadata": {},
   "source": [
    "## Label Encoding"
   ]
  },
  {
   "cell_type": "code",
   "execution_count": 2,
   "id": "834e0b04",
   "metadata": {},
   "outputs": [
    {
     "data": {
      "text/html": [
       "<div>\n",
       "<style scoped>\n",
       "    .dataframe tbody tr th:only-of-type {\n",
       "        vertical-align: middle;\n",
       "    }\n",
       "\n",
       "    .dataframe tbody tr th {\n",
       "        vertical-align: top;\n",
       "    }\n",
       "\n",
       "    .dataframe thead th {\n",
       "        text-align: right;\n",
       "    }\n",
       "</style>\n",
       "<table border=\"1\" class=\"dataframe\">\n",
       "  <thead>\n",
       "    <tr style=\"text-align: right;\">\n",
       "      <th></th>\n",
       "      <th>Employee_ID</th>\n",
       "      <th>Gender</th>\n",
       "      <th>Remarks</th>\n",
       "    </tr>\n",
       "  </thead>\n",
       "  <tbody>\n",
       "    <tr>\n",
       "      <th>0</th>\n",
       "      <td>56</td>\n",
       "      <td>Female</td>\n",
       "      <td>Great</td>\n",
       "    </tr>\n",
       "    <tr>\n",
       "      <th>1</th>\n",
       "      <td>75</td>\n",
       "      <td>Male</td>\n",
       "      <td>Nice</td>\n",
       "    </tr>\n",
       "    <tr>\n",
       "      <th>2</th>\n",
       "      <td>87</td>\n",
       "      <td>Male</td>\n",
       "      <td>Good</td>\n",
       "    </tr>\n",
       "    <tr>\n",
       "      <th>3</th>\n",
       "      <td>32</td>\n",
       "      <td>Female</td>\n",
       "      <td>Good</td>\n",
       "    </tr>\n",
       "    <tr>\n",
       "      <th>4</th>\n",
       "      <td>44</td>\n",
       "      <td>Female</td>\n",
       "      <td>Great</td>\n",
       "    </tr>\n",
       "  </tbody>\n",
       "</table>\n",
       "</div>"
      ],
      "text/plain": [
       "   Employee_ID  Gender Remarks\n",
       "0           56  Female   Great\n",
       "1           75    Male    Nice\n",
       "2           87    Male    Good\n",
       "3           32  Female    Good\n",
       "4           44  Female   Great"
      ]
     },
     "execution_count": 2,
     "metadata": {},
     "output_type": "execute_result"
    }
   ],
   "source": [
    "import pandas as pd\n",
    "df = pd.read_csv('Employee_data.csv')\n",
    "df.head()"
   ]
  },
  {
   "cell_type": "code",
   "execution_count": 3,
   "id": "613a79ed",
   "metadata": {},
   "outputs": [
    {
     "data": {
      "text/plain": [
       "array(['Great', 'Nice', 'Good'], dtype=object)"
      ]
     },
     "execution_count": 3,
     "metadata": {},
     "output_type": "execute_result"
    }
   ],
   "source": [
    "df['Remarks'].unique()"
   ]
  },
  {
   "cell_type": "code",
   "execution_count": 4,
   "id": "ad1837d4",
   "metadata": {},
   "outputs": [
    {
     "data": {
      "text/plain": [
       "array([1, 2, 0])"
      ]
     },
     "execution_count": 4,
     "metadata": {},
     "output_type": "execute_result"
    }
   ],
   "source": [
    "# Import label encoder\n",
    "from sklearn import preprocessing\n",
    "\n",
    "# label_encoder object knows how to understand word labels.\n",
    "label_encoder = preprocessing.LabelEncoder()\n",
    "\n",
    "# Encode labels in column 'species'.\n",
    "df['Remarks']= label_encoder.fit_transform(df['Remarks'])\n",
    "\n",
    "df['Remarks'].unique()"
   ]
  }
 ],
 "metadata": {
  "kernelspec": {
   "display_name": "Python 3 (ipykernel)",
   "language": "python",
   "name": "python3"
  },
  "language_info": {
   "codemirror_mode": {
    "name": "ipython",
    "version": 3
   },
   "file_extension": ".py",
   "mimetype": "text/x-python",
   "name": "python",
   "nbconvert_exporter": "python",
   "pygments_lexer": "ipython3",
   "version": "3.9.12"
  }
 },
 "nbformat": 4,
 "nbformat_minor": 5
}
